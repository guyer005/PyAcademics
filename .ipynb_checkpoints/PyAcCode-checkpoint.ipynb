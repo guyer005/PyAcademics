{
 "cells": [
  {
   "cell_type": "code",
   "execution_count": 4,
   "metadata": {
    "scrolled": true
   },
   "outputs": [],
   "source": [
    "import pandas as pd\n",
    "pd.set_option('display.max_columns',15)\n",
    "Stud = pd.read_csv('students_complete.csv')\n",
    "Sch = pd.read_csv('schools_complete.csv')\n",
    "Stud_df = pd.DataFrame(Stud)\n",
    "Sch_df = pd.DataFrame(Sch)"
   ]
  },
  {
   "cell_type": "code",
   "execution_count": 5,
   "metadata": {
    "scrolled": true
   },
   "outputs": [
    {
     "name": "stdout",
     "output_type": "stream",
     "text": [
      "Results reported assume a pass criterion of 70% or higher\n",
      "Summary of the District Schools:\n",
      "-------------------------------------------------------------\n",
      "Total Schools: 15\n",
      "Total Students: 39170\n",
      "Total Budget: 24649428\n",
      "Average Math Score: 78.99\n",
      "Average Reading Score: 81.88\n",
      "% Passing Math: 74.98%\n",
      "% Passing Reading: 85.81%\n",
      "Overall Passing Rate: 80.39%\n",
      "-------------------------------------------------------------\n"
     ]
    }
   ],
   "source": [
    "#District Summary --Create a high level snapshot of the district's key metrics'\n",
    "#Is there any missing data anywhere in the dataframe?\n",
    "Stud_df.isnull().values.any()  #code from my Assessment model script works here\n",
    "#False so we proceed accordingly with a pre-cleaned dataset. Thanks for clean data\n",
    "List = Stud_df.groupby([\"school_name\"]).count()\n",
    "#Stud_df[\"reading_score\"].mean()\n",
    "Stud_df.loc[:,\"grade\"].replace(\"th\",\"\",regex=True,inplace=True)  #Phew this to ensure grades are properly sorted for later\n",
    "Stud_df[\"grade\"] = pd.to_numeric(Stud_df[\"grade\"])\n",
    "MathPass = (Stud_df.iloc[:,6] >= 70)*1\n",
    "ReadPass = (Stud_df.iloc[:,5] >= 70)*1\n",
    "Stud_df[\"% Passing Math\"] = MathPass\n",
    "Stud_df[\"% Passing Reading\"] = ReadPass\n",
    "PassMath = sum(MathPass) / len(Stud_df) #create logical vector of 1=pass,0=fail, sum it, divide by total\n",
    "PassMPer = (\"{:.2%}\".format(PassMath))\n",
    "PassRead = sum(ReadPass) / len(Stud_df) #create logical vector of 1=pass,0=fail, sum it, divide by total\n",
    "PassRPer = (\"{:.2%}\".format(PassRead))\n",
    "PassOv = (\"{:.2%}\".format((PassMath+PassRead)/2))\n",
    "\n",
    "print(\"Results reported assume a pass criterion of 70% or higher\")\n",
    "print(\"Summary of the District Schools:\")\n",
    "print(\"-------------------------------------------------------------\")\n",
    "print(f\"Total Schools: {len(List)}\")\n",
    "print(f\"Total Students: {sum(List['grade'])}\")\n",
    "print(f\"Total Budget: {sum(Sch_df['budget'])}\")\n",
    "print(f\"Average Math Score: {Stud_df['math_score'].mean():.2f}\")\n",
    "print(f\"Average Reading Score: {Stud_df['reading_score'].mean():.2f}\")\n",
    "print(f\"% Passing Math: {PassMPer}\")\n",
    "print(f\"% Passing Reading: {PassRPer}\")\n",
    "print(f\"Overall Passing Rate: {PassOv}\")\n",
    "print(\"-------------------------------------------------------------\")"
   ]
  },
  {
   "cell_type": "code",
   "execution_count": 6,
   "metadata": {},
   "outputs": [
    {
     "name": "stdout",
     "output_type": "stream",
     "text": [
      "              School Name School Type  Total Students  Total Budget  \\\n",
      "0      Bailey High School    District            4976       3124928   \n",
      "1     Cabrera High School     Charter            1858       1081356   \n",
      "2    Figueroa High School    District            2949       1884411   \n",
      "3        Ford High School    District            2739       1763916   \n",
      "4     Griffin High School     Charter            1468        917500   \n",
      "5   Hernandez High School    District            4635       3022020   \n",
      "6      Holden High School     Charter             427        248087   \n",
      "7       Huang High School    District            2917       1910635   \n",
      "8     Johnson High School    District            4761       3094650   \n",
      "9        Pena High School     Charter             962        585858   \n",
      "10  Rodriguez High School    District            3999       2547363   \n",
      "11    Shelton High School     Charter            1761       1056600   \n",
      "12     Thomas High School     Charter            1635       1043130   \n",
      "13     Wilson High School     Charter            2283       1319574   \n",
      "14     Wright High School     Charter            1800       1049400   \n",
      "\n",
      "    Per Student Budget  Avg Math Score  Avg Reading Score  % Passing Math  \\\n",
      "0                628.0           77.05              81.03           66.68   \n",
      "1                582.0           83.06              83.98           94.13   \n",
      "2                639.0           76.71              81.16           65.99   \n",
      "3                644.0           77.10              80.75           68.31   \n",
      "4                625.0           83.35              83.82           93.39   \n",
      "5                652.0           77.29              80.93           66.75   \n",
      "6                581.0           83.80              83.81           92.51   \n",
      "7                655.0           76.63              81.18           65.68   \n",
      "8                650.0           77.07              80.97           66.06   \n",
      "9                609.0           83.84              84.04           94.59   \n",
      "10               637.0           76.84              80.74           66.37   \n",
      "11               600.0           83.36              83.73           93.87   \n",
      "12               638.0           83.42              83.85           93.27   \n",
      "13               578.0           83.27              83.99           93.87   \n",
      "14               583.0           83.68              83.96           93.33   \n",
      "\n",
      "    % Passing Reading  Overall Passing Rate  \n",
      "0               81.93                74.305  \n",
      "1               97.04                95.585  \n",
      "2               80.74                73.365  \n",
      "3               79.30                73.805  \n",
      "4               97.14                95.265  \n",
      "5               80.86                73.805  \n",
      "6               96.25                94.380  \n",
      "7               81.32                73.500  \n",
      "8               81.22                73.640  \n",
      "9               95.95                95.270  \n",
      "10              80.22                73.295  \n",
      "11              95.85                94.860  \n",
      "12              97.31                95.290  \n",
      "13              96.54                95.205  \n",
      "14              96.61                94.970  \n"
     ]
    }
   ],
   "source": [
    "#Next for the School Summary, fun stuff\n",
    "\n",
    "Anchor = Stud_df.groupby([\"school_name\"]).mean()\n",
    "Anchor = Anchor.drop(columns=[\"Student ID\",\"grade\"])\n",
    "Anchor = pd.DataFrame(Anchor)\n",
    "Merge_df = pd.merge(Anchor,Sch_df,on=\"school_name\")\n",
    "Merge_df[[\"reading_score\",\"math_score\"]] = Merge_df[[\"reading_score\",\"math_score\"]].round(2)\n",
    "Merge_df[[\"% Passing Math\",\"% Passing Reading\"]] = Merge_df[[\"% Passing Math\",\"% Passing Reading\"]].round(4) *100\n",
    "Merge_df[\"Overall Passing Rate\"] = Merge_df.iloc[:,3:5].mean(axis=1)\n",
    "Merge_df[\"Per Student Budget\"] = round(Merge_df[\"budget\"]/Merge_df[\"size\"],2)\n",
    "Fin_df = Merge_df.rename(columns={\"school_name\":\"School Name\",\"reading_score\":\"Avg Reading Score\",\"math_score\":\n",
    "                                  \"Avg Math Score\",\"type\":\"School Type\",\"size\":\"Total Students\",\"budget\":\"Total Budget\"})\n",
    "#apologies for this messiness but I love ILOC!!!!\n",
    "Fin_df = Fin_df.iloc[:,[0,6,7,8,10,2,1,3,4,9]]\n",
    "print(Fin_df)"
   ]
  },
  {
   "cell_type": "code",
   "execution_count": 7,
   "metadata": {},
   "outputs": [
    {
     "name": "stdout",
     "output_type": "stream",
     "text": [
      "            School Name School Type  Total Students  Total Budget  \\\n",
      "1   Cabrera High School     Charter            1858       1081356   \n",
      "12   Thomas High School     Charter            1635       1043130   \n",
      "9      Pena High School     Charter             962        585858   \n",
      "4   Griffin High School     Charter            1468        917500   \n",
      "13   Wilson High School     Charter            2283       1319574   \n",
      "\n",
      "    Per Student Budget  Avg Math Score  Avg Reading Score  % Passing Math  \\\n",
      "1                582.0           83.06              83.98           94.13   \n",
      "12               638.0           83.42              83.85           93.27   \n",
      "9                609.0           83.84              84.04           94.59   \n",
      "4                625.0           83.35              83.82           93.39   \n",
      "13               578.0           83.27              83.99           93.87   \n",
      "\n",
      "    % Passing Reading  Overall Passing Rate  \n",
      "1               97.04                95.585  \n",
      "12              97.31                95.290  \n",
      "9               95.95                95.270  \n",
      "4               97.14                95.265  \n",
      "13              96.54                95.205  \n"
     ]
    }
   ],
   "source": [
    "#Sorting then reporting top 5\n",
    "Place_df = Fin_df.sort_values(by=[\"Overall Passing Rate\"],ascending=False)\n",
    "Place_df = pd.DataFrame(Place_df)\n",
    "TopFin_df = Place_df.head(5)\n",
    "print(TopFin_df)"
   ]
  },
  {
   "cell_type": "code",
   "execution_count": 8,
   "metadata": {},
   "outputs": [
    {
     "name": "stdout",
     "output_type": "stream",
     "text": [
      "              School Name School Type  Total Students  Total Budget  \\\n",
      "5   Hernandez High School    District            4635       3022020   \n",
      "8     Johnson High School    District            4761       3094650   \n",
      "7       Huang High School    District            2917       1910635   \n",
      "2    Figueroa High School    District            2949       1884411   \n",
      "10  Rodriguez High School    District            3999       2547363   \n",
      "\n",
      "    Per Student Budget  Avg Math Score  Avg Reading Score  % Passing Math  \\\n",
      "5                652.0           77.29              80.93           66.75   \n",
      "8                650.0           77.07              80.97           66.06   \n",
      "7                655.0           76.63              81.18           65.68   \n",
      "2                639.0           76.71              81.16           65.99   \n",
      "10               637.0           76.84              80.74           66.37   \n",
      "\n",
      "    % Passing Reading  Overall Passing Rate  \n",
      "5               80.86                73.805  \n",
      "8               81.22                73.640  \n",
      "7               81.32                73.500  \n",
      "2               80.74                73.365  \n",
      "10              80.22                73.295  \n"
     ]
    }
   ],
   "source": [
    "#Bottom Five Schools\n",
    "BotFin_df = Place_df.tail(5)\n",
    "print(BotFin_df)"
   ]
  },
  {
   "cell_type": "code",
   "execution_count": 9,
   "metadata": {},
   "outputs": [
    {
     "name": "stdout",
     "output_type": "stream",
     "text": [
      "                             math_score\n",
      "school_name           grade            \n",
      "Bailey High School    9           77.08\n",
      "                      10          77.00\n",
      "                      11          77.52\n",
      "                      12          76.49\n",
      "Cabrera High School   9           83.09\n",
      "                      10          83.15\n",
      "                      11          82.77\n",
      "                      12          83.28\n",
      "Figueroa High School  9           76.40\n",
      "                      10          76.54\n",
      "                      11          76.88\n",
      "                      12          77.15\n",
      "Ford High School      9           77.36\n",
      "                      10          77.67\n",
      "                      11          76.92\n",
      "                      12          76.18\n",
      "Griffin High School   9           82.04\n",
      "                      10          84.23\n",
      "                      11          83.84\n",
      "                      12          83.36\n",
      "Hernandez High School 9           77.44\n",
      "                      10          77.34\n",
      "                      11          77.14\n",
      "                      12          77.19\n",
      "Holden High School    9           83.79\n",
      "                      10          83.43\n",
      "                      11          85.00\n",
      "                      12          82.86\n",
      "Huang High School     9           77.03\n",
      "                      10          75.91\n",
      "                      11          76.45\n",
      "                      12          77.23\n",
      "Johnson High School   9           77.19\n",
      "                      10          76.69\n",
      "                      11          77.49\n",
      "                      12          76.86\n",
      "Pena High School      9           83.63\n",
      "                      10          83.37\n",
      "                      11          84.33\n",
      "                      12          84.12\n",
      "Rodriguez High School 9           76.86\n",
      "                      10          76.61\n",
      "                      11          76.40\n",
      "                      12          77.69\n",
      "Shelton High School   9           83.42\n",
      "                      10          82.92\n",
      "                      11          83.38\n",
      "                      12          83.78\n",
      "Thomas High School    9           83.59\n",
      "                      10          83.09\n",
      "                      11          83.50\n",
      "                      12          83.50\n",
      "Wilson High School    9           83.09\n",
      "                      10          83.72\n",
      "                      11          83.20\n",
      "                      12          83.04\n",
      "Wright High School    9           83.26\n",
      "                      10          84.01\n",
      "                      11          83.84\n",
      "                      12          83.64\n"
     ]
    }
   ],
   "source": [
    "#Math Scores by Grade\n",
    "MBG_df = Stud_df.groupby([\"school_name\",\"grade\"])[[\"math_score\"]].mean()\n",
    "print(round(MBG_df,2))"
   ]
  },
  {
   "cell_type": "code",
   "execution_count": 10,
   "metadata": {},
   "outputs": [
    {
     "name": "stdout",
     "output_type": "stream",
     "text": [
      "                             reading_score\n",
      "school_name           grade               \n",
      "Bailey High School    9              81.30\n",
      "                      10             80.91\n",
      "                      11             80.95\n",
      "                      12             80.91\n",
      "Cabrera High School   9              83.68\n",
      "                      10             84.25\n",
      "                      11             83.79\n",
      "                      12             84.29\n",
      "Figueroa High School  9              81.20\n",
      "                      10             81.41\n",
      "                      11             80.64\n",
      "                      12             81.38\n",
      "Ford High School      9              80.63\n",
      "                      10             81.26\n",
      "                      11             80.40\n",
      "                      12             80.66\n",
      "Griffin High School   9              83.37\n",
      "                      10             83.71\n",
      "                      11             84.29\n",
      "                      12             84.01\n",
      "Hernandez High School 9              80.87\n",
      "                      10             80.66\n",
      "                      11             81.40\n",
      "                      12             80.86\n",
      "Holden High School    9              83.68\n",
      "                      10             83.32\n",
      "                      11             83.82\n",
      "                      12             84.70\n",
      "Huang High School     9              81.29\n",
      "                      10             81.51\n",
      "                      11             81.42\n",
      "                      12             80.31\n",
      "Johnson High School   9              81.26\n",
      "                      10             80.77\n",
      "                      11             80.62\n",
      "                      12             81.23\n",
      "Pena High School      9              83.81\n",
      "                      10             83.61\n",
      "                      11             84.34\n",
      "                      12             84.59\n",
      "Rodriguez High School 9              80.99\n",
      "                      10             80.63\n",
      "                      11             80.86\n",
      "                      12             80.38\n",
      "Shelton High School   9              84.12\n",
      "                      10             83.44\n",
      "                      11             84.37\n",
      "                      12             82.78\n",
      "Thomas High School    9              83.73\n",
      "                      10             84.25\n",
      "                      11             83.59\n",
      "                      12             83.83\n",
      "Wilson High School    9              83.94\n",
      "                      10             84.02\n",
      "                      11             83.76\n",
      "                      12             84.32\n",
      "Wright High School    9              83.83\n",
      "                      10             83.81\n",
      "                      11             84.16\n",
      "                      12             84.07\n"
     ]
    }
   ],
   "source": [
    "RBG_df = Stud_df.groupby([\"school_name\",\"grade\"])[[\"reading_score\"]].mean()\n",
    "print(round(RBG_df,2))"
   ]
  },
  {
   "cell_type": "code",
   "execution_count": 11,
   "metadata": {},
   "outputs": [
    {
     "name": "stdout",
     "output_type": "stream",
     "text": [
      "                 Avg Math Score  Avg Reading Score  % Passing Math  \\\n",
      "Spending Ranges                                                      \n",
      "Below $600                83.45              83.94           93.46   \n",
      "$600-$629                 81.90              83.16           87.13   \n",
      "$630-$649                 78.52              81.62           73.48   \n",
      "At Least $650             77.00              81.03           66.16   \n",
      "\n",
      "                 % Passing Reading  Overall Passing Rate  \n",
      "Spending Ranges                                           \n",
      "Below $600                   96.61                 95.04  \n",
      "$600-$629                    92.72                 89.93  \n",
      "$630-$649                    84.39                 78.94  \n",
      "At Least $650                81.13                 73.65  \n"
     ]
    }
   ],
   "source": [
    "#Cutting the dataframe into intervals: 575-599, 600 to 629, 630 to 649, 650+\n",
    "Fin_df[\"Spending Ranges\"] = pd.cut(Fin_df[\"Per Student Budget\"],[575,599,629,649,674],labels=\n",
    "       [\"Below $600\",\"$600-$629\",\"$630-$649\",\"At Least $650\"])\n",
    "#scores by school spending\n",
    "BySpend_df = Fin_df.groupby([\"Spending Ranges\"])[[\"Avg Math Score\",\"Avg Reading Score\",\n",
    "                       \"% Passing Math\",\"% Passing Reading\",\"Overall Passing Rate\"]]\n",
    "print(round(BySpend_df.mean(),2))"
   ]
  },
  {
   "cell_type": "code",
   "execution_count": 12,
   "metadata": {},
   "outputs": [
    {
     "name": "stdout",
     "output_type": "stream",
     "text": [
      "             Avg Math Score  Avg Reading Score  % Passing Math  \\\n",
      "Size Ranges                                                      \n",
      "Small                 83.66              83.89           93.50   \n",
      "Medium                80.90              82.82           83.56   \n",
      "Large                 77.06              80.92           66.46   \n",
      "\n",
      "             % Passing Reading  Overall Passing Rate  \n",
      "Size Ranges                                           \n",
      "Small                    96.45                 94.97  \n",
      "Medium                   90.59                 87.07  \n",
      "Large                    81.06                 73.76  \n"
     ]
    }
   ],
   "source": [
    "#Cutting the data into 3 groups by School Size\n",
    "Fin_df[\"Size Ranges\"] = pd.cut(Fin_df[\"Total Students\"],[0,1499,2999,5000],labels=\n",
    "       [\"Small\",\"Medium\",\"Large\"])\n",
    "\n",
    "BySize_df = Fin_df.groupby([\"Size Ranges\"])[[\"Avg Math Score\",\"Avg Reading Score\",\n",
    "                       \"% Passing Math\",\"% Passing Reading\",\"Overall Passing Rate\"]]\n",
    "print(round(BySize_df.mean(),2))"
   ]
  },
  {
   "cell_type": "code",
   "execution_count": 13,
   "metadata": {},
   "outputs": [
    {
     "name": "stdout",
     "output_type": "stream",
     "text": [
      "             Avg Math Score  Avg Reading Score  % Passing Math  \\\n",
      "School Type                                                      \n",
      "Charter               83.47              83.90           93.62   \n",
      "District              76.96              80.97           66.55   \n",
      "\n",
      "             % Passing Reading  Overall Passing Rate  \n",
      "School Type                                           \n",
      "Charter                  96.59                 95.10  \n",
      "District                 80.80                 73.67  \n"
     ]
    }
   ],
   "source": [
    "#Breaking the data down by School Type... Then DONE!!! 10:19 AM Friday 6/21. Slacking this week :)\n",
    "BySize_df = Fin_df.groupby([\"School Type\"])[[\"Avg Math Score\",\"Avg Reading Score\",\n",
    "                       \"% Passing Math\",\"% Passing Reading\",\"Overall Passing Rate\"]]\n",
    "print(round(BySize_df.mean(),2))"
   ]
  },
  {
   "cell_type": "code",
   "execution_count": null,
   "metadata": {},
   "outputs": [],
   "source": []
  }
 ],
 "metadata": {
  "kernelspec": {
   "display_name": "Python 3",
   "language": "python",
   "name": "python3"
  },
  "language_info": {
   "codemirror_mode": {
    "name": "ipython",
    "version": 3
   },
   "file_extension": ".py",
   "mimetype": "text/x-python",
   "name": "python",
   "nbconvert_exporter": "python",
   "pygments_lexer": "ipython3",
   "version": "3.7.3"
  }
 },
 "nbformat": 4,
 "nbformat_minor": 2
}
